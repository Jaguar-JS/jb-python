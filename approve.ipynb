{
 "cells": [
  {
   "cell_type": "code",
   "id": "a63ab98e64ba4285",
   "metadata": {
    "collapsed": true,
    "ExecuteTime": {
     "end_time": "2024-07-30T14:41:03.695872Z",
     "start_time": "2024-07-30T14:41:03.679137Z"
    }
   },
   "source": "from app.main import Car, CarWashStation",
   "outputs": [],
   "execution_count": 2
  },
  {
   "metadata": {},
   "cell_type": "markdown",
   "source": "#### 1. Checking classes Car, CarWashStation, serve_cars - method",
   "id": "6681de83026e12a5"
  },
  {
   "metadata": {
    "ExecuteTime": {
     "end_time": "2024-07-30T14:41:03.733982Z",
     "start_time": "2024-07-30T14:41:03.726530Z"
    }
   },
   "cell_type": "code",
   "source": [
    "bmw = Car(comfort_class=3, clean_mark=3, brand='BMW')\n",
    "audi = Car(comfort_class=4, clean_mark=9, brand='Audi')\n",
    "\n",
    "print(bmw.clean_mark)  # 3\n",
    "\n",
    "wash_station = CarWashStation(\n",
    "    distance_from_city_center=5,\n",
    "    clean_power=6,\n",
    "    average_rating=3.5,\n",
    "    count_of_ratings=6\n",
    ")\n",
    "\n",
    "income = wash_station.serve_cars([bmw, audi])\n",
    "\n",
    "print(income)  # 6.3\n",
    "print(bmw.clean_mark)  # 6"
   ],
   "id": "e9de736f5b202c7f",
   "outputs": [
    {
     "name": "stdout",
     "output_type": "stream",
     "text": [
      "3\n",
      "6.3\n",
      "6\n"
     ]
    }
   ],
   "execution_count": 3
  },
  {
   "metadata": {},
   "cell_type": "markdown",
   "source": "",
   "id": "a3d2f664bcbe6b8f"
  },
  {
   "metadata": {
    "ExecuteTime": {
     "end_time": "2024-07-30T14:41:03.766883Z",
     "start_time": "2024-07-30T14:41:03.758191Z"
    }
   },
   "cell_type": "code",
   "source": [
    "# Checking If audi.clean_mark was below wash_station.clean_power\n",
    "# then audi would have been washed as well and the income would have raised:\n",
    "\n",
    "bmw = Car(comfort_class=3, clean_mark=3, brand='BMW')\n",
    "audi = Car(comfort_class=4, clean_mark=2, brand='Audi')\n",
    "\n",
    "print(bmw.clean_mark)  # 3\n",
    "print(audi.clean_mark) # 2\n",
    "\n",
    "wash_station = CarWashStation(\n",
    "    distance_from_city_center=5,\n",
    "    clean_power=6,\n",
    "    average_rating=3.5,\n",
    "    count_of_ratings=6\n",
    ")\n",
    "\n",
    "income = wash_station.serve_cars([bmw, audi])\n",
    "\n",
    "print(income)  # 17.5\n",
    "\n",
    "print(bmw.clean_mark)  # 6\n",
    "print(audi.clean_mark) # 6"
   ],
   "id": "ff996e013921b729",
   "outputs": [
    {
     "name": "stdout",
     "output_type": "stream",
     "text": [
      "3\n",
      "2\n",
      "17.5\n",
      "6\n",
      "6\n"
     ]
    }
   ],
   "execution_count": 4
  },
  {
   "metadata": {},
   "cell_type": "markdown",
   "source": "#### 2. Checking class CarWashStation",
   "id": "7eff3a3a34c4df70"
  },
  {
   "metadata": {
    "ExecuteTime": {
     "end_time": "2024-07-30T14:41:03.773354Z",
     "start_time": "2024-07-30T14:41:03.766883Z"
    }
   },
   "cell_type": "code",
   "source": [
    "wash_station = CarWashStation(\n",
    "    distance_from_city_center=6,\n",
    "    clean_power=8,\n",
    "    average_rating=3.9,\n",
    "    count_of_ratings=11\n",
    ")\n",
    "\n",
    "print(wash_station.average_rating)    # 3.9\n",
    "print(wash_station.count_of_ratings)  # 11\n",
    "\n",
    "wash_station.rate_service(5)\n",
    "\n",
    "print(wash_station.average_rating)    # 4.0\n",
    "print(wash_station.count_of_ratings)  # 12"
   ],
   "id": "db7e22a494b6890f",
   "outputs": [
    {
     "name": "stdout",
     "output_type": "stream",
     "text": [
      "3.9\n",
      "11\n",
      "4.0\n",
      "12\n"
     ]
    }
   ],
   "execution_count": 5
  },
  {
   "metadata": {
    "ExecuteTime": {
     "end_time": "2024-07-30T14:41:03.780421Z",
     "start_time": "2024-07-30T14:41:03.773354Z"
    }
   },
   "cell_type": "code",
   "source": [
    "bmw = Car(3, 3, 'BMW')\n",
    "audi = Car(4, 9, 'Audi')\n",
    "mercedes = Car(7, 1, 'Mercedes')\n",
    "\n",
    "ws = CarWashStation(6, 8, 3.9, 11)\n",
    "\n",
    "income = ws.serve_cars([\n",
    "    bmw,\n",
    "    audi,\n",
    "    mercedes\n",
    "])"
   ],
   "id": "9f2d0925054b534b",
   "outputs": [],
   "execution_count": 6
  },
  {
   "metadata": {
    "ExecuteTime": {
     "end_time": "2024-07-30T14:42:18.375079Z",
     "start_time": "2024-07-30T14:42:18.357354Z"
    }
   },
   "cell_type": "code",
   "source": "assert income == 41.6, f\"Expected income to be 41.6, but got {income}\"",
   "id": "3cfe93a79f83c2b3",
   "outputs": [],
   "execution_count": 15
  },
  {
   "metadata": {
    "ExecuteTime": {
     "end_time": "2024-07-30T14:41:03.810928Z",
     "start_time": "2024-07-30T14:41:03.804971Z"
    }
   },
   "cell_type": "code",
   "source": "assert bmw.clean_mark == 8, f\"Expected BMW's clean mark to be 8, but got {bmw.clean_mark}\"",
   "id": "b81dc58fa65dc2d8",
   "outputs": [],
   "execution_count": 8
  },
  {
   "metadata": {
    "ExecuteTime": {
     "end_time": "2024-07-30T14:41:03.869542Z",
     "start_time": "2024-07-30T14:41:03.852265Z"
    }
   },
   "cell_type": "code",
   "source": "assert audi.clean_mark == 9, f\"Expected Audi's clean mark to be 9, but got {audi.clean_mark}\"  # audi wasn't washed",
   "id": "3e8457496211b797",
   "outputs": [],
   "execution_count": 9
  },
  {
   "metadata": {
    "ExecuteTime": {
     "end_time": "2024-07-30T14:41:03.877676Z",
     "start_time": "2024-07-30T14:41:03.869542Z"
    }
   },
   "cell_type": "code",
   "source": "assert mercedes.clean_mark == 8, f\"Expected Mercedes' clean mark to be 8, but got {mercedes.clean_mark}\"  # all other cars are washed to '8'",
   "id": "75a6dd0c7aa03f5b",
   "outputs": [],
   "execution_count": 10
  },
  {
   "metadata": {
    "ExecuteTime": {
     "end_time": "2024-07-30T14:41:03.900392Z",
     "start_time": "2024-07-30T14:41:03.883715Z"
    }
   },
   "cell_type": "code",
   "source": [
    "ford = Car(2, 1, 'Ford')\n",
    "wash_cost = ws.calculate_washing_price(ford)\n",
    "# only calculating cost, not washing\n",
    "assert wash_cost == 9.1, f\"Expected wash cost for Ford to be 9.1, but got {wash_cost}\"\n",
    "assert ford.clean_mark == 1, f\"Expected Ford's clean mark to remain 1, but got {ford.clean_mark}\"\n",
    "\n",
    "ws.rate_service(5)\n",
    "assert ws.count_of_ratings == 12, f\"Expected count of ratings to be 12, but got {ws.count_of_ratings}\""
   ],
   "id": "856c96cde37daf97",
   "outputs": [],
   "execution_count": 11
  },
  {
   "metadata": {
    "ExecuteTime": {
     "end_time": "2024-07-30T14:42:45.894608Z",
     "start_time": "2024-07-30T14:42:45.879217Z"
    }
   },
   "cell_type": "code",
   "source": "assert ws.average_rating == 4.0, f\"Expected average rating to be 4.0, but got {ws.average_rating}\"",
   "id": "15b103f3e343adbf",
   "outputs": [],
   "execution_count": 16
  }
 ],
 "metadata": {
  "kernelspec": {
   "display_name": "Python 3",
   "language": "python",
   "name": "python3"
  },
  "language_info": {
   "codemirror_mode": {
    "name": "ipython",
    "version": 2
   },
   "file_extension": ".py",
   "mimetype": "text/x-python",
   "name": "python",
   "nbconvert_exporter": "python",
   "pygments_lexer": "ipython2",
   "version": "2.7.6"
  }
 },
 "nbformat": 4,
 "nbformat_minor": 5
}
